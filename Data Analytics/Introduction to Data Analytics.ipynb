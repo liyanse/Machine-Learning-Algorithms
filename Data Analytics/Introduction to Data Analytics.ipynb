{
 "cells": [
  {
   "cell_type": "markdown",
   "metadata": {},
   "source": [
    "### Data Analytics"
   ]
  },
  {
   "cell_type": "markdown",
   "metadata": {},
   "source": [
    "Data analysis is the collection, transformation and organization of data in order to draw conclusions, make predictions a nd drive informed decision making.\n",
    "\n",
    "Data analytics is considered the science of data  \n",
    "\n",
    "\n",
    "Data Science is the creating of new ways of modelling and understanding the unkbown by using raw data"
   ]
  },
  {
   "cell_type": "markdown",
   "metadata": {},
   "source": [
    "When perfoming analysis on a dataset, it is important to consider the following;\n",
    "    \n",
    "    1. Who will be informed?\n",
    "    2. What kinds of results are needed?\n",
    "    3. Am I answering the questions being asked?\n",
    "    4. How quickly does a decision need to be made?"
   ]
  },
  {
   "cell_type": "markdown",
   "metadata": {},
   "source": [
    "#### Data analyst skills"
   ]
  },
  {
   "cell_type": "markdown",
   "metadata": {},
   "source": [
    "1. Analytical skills\n",
    "2. Technical mindset\n",
    "3. Data design\n",
    "4. Understanding context\n",
    "5. Data strategy"
   ]
  },
  {
   "cell_type": "markdown",
   "metadata": {},
   "source": [
    "#### Data Analysis Phases"
   ]
  },
  {
   "cell_type": "markdown",
   "metadata": {},
   "source": [
    "1. Ask\n",
    "2. Prepare\n",
    "3. Process\n",
    "4. Analyze\n",
    "5. Share\n",
    "6. Act"
   ]
  },
  {
   "cell_type": "code",
   "execution_count": null,
   "metadata": {},
   "outputs": [],
   "source": []
  }
 ],
 "metadata": {
  "kernelspec": {
   "display_name": "Python 3 (ipykernel)",
   "language": "python",
   "name": "python3"
  },
  "language_info": {
   "codemirror_mode": {
    "name": "ipython",
    "version": 3
   },
   "file_extension": ".py",
   "mimetype": "text/x-python",
   "name": "python",
   "nbconvert_exporter": "python",
   "pygments_lexer": "ipython3",
   "version": "3.11.3"
  }
 },
 "nbformat": 4,
 "nbformat_minor": 2
}
