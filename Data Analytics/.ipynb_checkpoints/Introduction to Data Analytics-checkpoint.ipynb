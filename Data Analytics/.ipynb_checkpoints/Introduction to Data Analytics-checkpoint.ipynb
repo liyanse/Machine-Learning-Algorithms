{
 "cells": [
  {
   "cell_type": "markdown",
   "metadata": {},
   "source": [
    "### Data Analytics"
   ]
  },
  {
   "cell_type": "markdown",
   "metadata": {},
   "source": [
    "Data analysis is the collection, transformation and organization of data in order to draw conclusions, make predictions a nd drive informed decision making.\n",
    "\n",
    "Data analytics is considered the science of data\n",
    "Data Science is the creating of new ways of modelling and understanding the unkbown by "
   ]
  }
 ],
 "metadata": {
  "kernelspec": {
   "display_name": "Python 3 (ipykernel)",
   "language": "python",
   "name": "python3"
  },
  "language_info": {
   "codemirror_mode": {
    "name": "ipython",
    "version": 3
   },
   "file_extension": ".py",
   "mimetype": "text/x-python",
   "name": "python",
   "nbconvert_exporter": "python",
   "pygments_lexer": "ipython3",
   "version": "3.11.3"
  }
 },
 "nbformat": 4,
 "nbformat_minor": 2
}
