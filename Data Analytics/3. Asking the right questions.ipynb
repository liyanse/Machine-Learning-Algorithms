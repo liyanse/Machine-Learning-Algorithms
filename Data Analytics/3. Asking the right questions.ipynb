{
 "cells": [
  {
   "attachments": {},
   "cell_type": "markdown",
   "metadata": {},
   "source": [
    "### The 6 Basic Daa Analytics Problem Types"
   ]
  },
  {
   "attachments": {},
   "cell_type": "markdown",
   "metadata": {},
   "source": [
    "1. Making Predictions\n",
    "2. Categorizing things\n",
    "3. Spotting something unsual\n",
    "4. Identifying themes\n",
    "5. Discovering connections\n",
    "6. Finding patterns"
   ]
  },
  {
   "attachments": {},
   "cell_type": "markdown",
   "metadata": {},
   "source": [
    "### Answering these questions\n"
   ]
  },
  {
   "attachments": {},
   "cell_type": "markdown",
   "metadata": {},
   "source": [
    "1. Closed-ended questions\n",
    "For example, if I ask you whether you like tea, the answer can either be yes or no!\n",
    "2. Vague questions\n",
    "For example, if I ask what's your favorite dessert, it could be anything!"
   ]
  },
  {
   "attachments": {},
   "cell_type": "markdown",
   "metadata": {},
   "source": [
    "The best way to answer is to ask the right questions by following the smart methodology;\n",
    "\n",
    "    S - specific\n",
    "    M  - measurable\n",
    "    A - action-oriented\n",
    "    R - relevant\n",
    "    T - time bound"
   ]
  },
  {
   "attachments": {},
   "cell_type": "markdown",
   "metadata": {},
   "source": [
    "1. \n",
    "Specific questions are somple, significant and focused on a single topic or a few closely related ideas"
   ]
  },
  {
   "attachments": {},
   "cell_type": "markdown",
   "metadata": {},
   "source": [
    "2.\n",
    "Measurable questions can be quantified and assessed"
   ]
  },
  {
   "attachments": {},
   "cell_type": "markdown",
   "metadata": {},
   "source": [
    "3.\n",
    "Action oriented questions encourage change"
   ]
  },
  {
   "attachments": {},
   "cell_type": "markdown",
   "metadata": {},
   "source": [
    "4.\n",
    "Relevant questions matter, are important, and have significance to the problem you're trying to solve"
   ]
  },
  {
   "attachments": {},
   "cell_type": "markdown",
   "metadata": {},
   "source": [
    "5. \n",
    "Time bound questions specify to the time period to be studied"
   ]
  },
  {
   "cell_type": "code",
   "execution_count": null,
   "metadata": {},
   "outputs": [],
   "source": []
  }
 ],
 "metadata": {
  "kernelspec": {
   "display_name": "Python 3",
   "language": "python",
   "name": "python3"
  },
  "language_info": {
   "name": "python",
   "version": "3.11.3"
  },
  "orig_nbformat": 4
 },
 "nbformat": 4,
 "nbformat_minor": 2
}
