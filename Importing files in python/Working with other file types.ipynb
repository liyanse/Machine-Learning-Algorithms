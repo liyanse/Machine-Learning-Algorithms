{
 "cells": [
  {
   "cell_type": "markdown",
   "id": "c80b3a4c",
   "metadata": {},
   "source": [
    "When working with Data, it is important to understand that you will be met with more than one file types. That is, not all companies store their information in .csv and .txt formats. Some of the files we'll learn to import include;\n",
    "\n",
    "     - Excel spreadsheets\n",
    "     - Matlab files\n",
    "     - SAS Files\n",
    "     - Stata files\n",
    "     - HDF5 files"
   ]
  },
  {
   "cell_type": "markdown",
   "id": "004511eb",
   "metadata": {},
   "source": [
    "# Picked Files"
   ]
  },
  {
   "cell_type": "markdown",
   "id": "6552c0ad",
   "metadata": {},
   "source": [
    "Sometimes when working with lists and dictionaries, it may be difficult to store them in a dataframe. Pickled files, are the files that are native to python. Pickling a file is the process of converting a Python object into a byte stream to store it in a file/database, maintain program state across sessions, or transport data over the network. Below is a method of importing pickled files in python\n"
   ]
  },
  {
   "cell_type": "code",
   "execution_count": null,
   "id": "da8441d6",
   "metadata": {},
   "outputs": [],
   "source": [
    "import pickle\n",
    "with open('', 'rb') as file:\n",
    "    data = pickle.load(file)\n",
    "print data"
   ]
  },
  {
   "cell_type": "markdown",
   "id": "6a7c0537",
   "metadata": {},
   "source": [
    "# Excel Spreadsheet"
   ]
  },
  {
   "cell_type": "code",
   "execution_count": 3,
   "id": "6966f94d",
   "metadata": {},
   "outputs": [
    {
     "name": "stdout",
     "output_type": "stream",
     "text": [
      "['Sheet1']\n"
     ]
    }
   ],
   "source": [
    "import pandas as pd\n",
    "file = 'Historicalinvesttemp.xlsx'\n",
    "data = pd.ExcelFile(file)\n",
    "print(data.sheet_names)"
   ]
  },
  {
   "cell_type": "markdown",
   "id": "0189e624",
   "metadata": {},
   "source": [
    "# Importing SAS/Stata files using pandas"
   ]
  },
  {
   "cell_type": "markdown",
   "id": "2168a744",
   "metadata": {},
   "source": [
    "SAS is short for Statistical Analysis System(used in business analytics and biostatistcis) and STATA is a combination of statistics and data( used in academic social sciences research). The most common SAS files have the extension dot sas7bdat and dot sas7bcat, which are dataset files and catalog files respectively."
   ]
  },
  {
   "cell_type": "code",
   "execution_count": null,
   "id": "e9a92f38",
   "metadata": {},
   "outputs": [],
   "source": [
    "import pandas as pd\n",
    "from sas7bdat import SAS7BDAT\n",
    "with SAS7BDAT ('') as file:\n",
    "    df_sas = file.to_data_frame()"
   ]
  },
  {
   "cell_type": "markdown",
   "id": "3c500d6b",
   "metadata": {},
   "source": [
    "Stata files have extension dot dta and we can import them using pandas. "
   ]
  },
  {
   "cell_type": "code",
   "execution_count": null,
   "id": "76eb868b",
   "metadata": {},
   "outputs": [],
   "source": [
    "import pandas as pd\n",
    "data = pd.read_stata('')"
   ]
  },
  {
   "cell_type": "markdown",
   "id": "595b381d",
   "metadata": {},
   "source": [
    "# Importing HDF5 files"
   ]
  },
  {
   "cell_type": "markdown",
   "id": "d3010b2d",
   "metadata": {},
   "source": [
    "In the Python world, consensus is rapidly converging on Hierarchical Data Format version 5, or 'HDF5,' as the standard mechanism for storing large quantities of numerical data."
   ]
  },
  {
   "cell_type": "code",
   "execution_count": null,
   "id": "fec2984e",
   "metadata": {},
   "outputs": [],
   "source": [
    "import h5py\n",
    "filename = ''\n",
    "data = h5py.File(filename, 'r')\n",
    "print(type(data))"
   ]
  },
  {
   "cell_type": "markdown",
   "id": "39156777",
   "metadata": {},
   "source": [
    "# Importing MatLab (Matrix Laboratory) Files"
   ]
  },
  {
   "cell_type": "markdown",
   "id": "977b90d7",
   "metadata": {},
   "source": [
    "    - scipy.io.loadmat() - read .mat files\n",
    "    - scipy.io.savemat() - write .mat files"
   ]
  },
  {
   "cell_type": "code",
   "execution_count": null,
   "id": "03586c9b",
   "metadata": {},
   "outputs": [],
   "source": [
    "import scipy.io\n",
    "filename = ''\n",
    "mat = scipy.io.loadmat(filename)\n",
    "print(type(mat))"
   ]
  }
 ],
 "metadata": {
  "kernelspec": {
   "display_name": "Python 3 (ipykernel)",
   "language": "python",
   "name": "python3"
  },
  "language_info": {
   "codemirror_mode": {
    "name": "ipython",
    "version": 3
   },
   "file_extension": ".py",
   "mimetype": "text/x-python",
   "name": "python",
   "nbconvert_exporter": "python",
   "pygments_lexer": "ipython3",
   "version": "3.9.7"
  }
 },
 "nbformat": 4,
 "nbformat_minor": 5
}
