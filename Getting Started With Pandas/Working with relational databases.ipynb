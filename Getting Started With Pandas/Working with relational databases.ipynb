{
 "cells": [
  {
   "cell_type": "markdown",
   "id": "f9d2cb61",
   "metadata": {},
   "source": [
    "# Introduction to Relational Databases"
   ]
  },
  {
   "cell_type": "markdown",
   "id": "fa2322f0",
   "metadata": {},
   "source": [
    "What is a relational database? It's a type of database that is based upon the Relational model of data, first described by Ted Codd in the late 1960s.Firstly, a database consists of tables.A table generally represents one entity type,In a relational database table,each row or record represents an instance of the entity type. In this sense, a table is entirely analogous to a dataframe."
   ]
  },
  {
   "cell_type": "markdown",
   "id": "04037056",
   "metadata": {},
   "source": [
    "but that the tables are linked. How this linking works is ultra-intuitive:The really cool thing about relational databases is not merely that you have a bunch of tables,but that the tables are linked. How this linking works is ultra-intuitive:Codd's 12 Rules"
   ]
  },
  {
   "cell_type": "markdown",
   "id": "89eed018",
   "metadata": {},
   "source": [
    "# Creating a Database Engine in Python"
   ]
  },
  {
   "cell_type": "markdown",
   "id": "ee37e0f0",
   "metadata": {},
   "source": [
    "We'll be working with SQLite Database and SQLAlchemy because its compatible with other relational database management systems."
   ]
  },
  {
   "cell_type": "code",
   "execution_count": null,
   "id": "e45edbc2",
   "metadata": {},
   "outputs": [],
   "source": [
    "# Import necessary module\n",
    "from sqlalchemy import create_engine\n",
    "\n",
    "# Create engine: engine\n",
    "engine = create_engine('sqlite:///Chinook.sqlite')\n",
    "\n",
    "# Save the table names to a list: table_names\n",
    "table_names = engine.table_names()\n",
    "\n",
    "# Print the table names to the shell\n",
    "print(table_names)"
   ]
  },
  {
   "cell_type": "markdown",
   "id": "7225c809",
   "metadata": {},
   "source": [
    "# Querying Relational Database in Python"
   ]
  },
  {
   "cell_type": "code",
   "execution_count": null,
   "id": "f514282f",
   "metadata": {},
   "outputs": [],
   "source": [
    "from sqlalchemy import create_engine\n",
    "import pandas as pd\n",
    "engine = create_engine('sqlite:///Northwind.sqlite')\n",
    "con = engine.connect()\n",
    "rs = con.execute(\"SELECT * FROM Orders\")\n",
    "df = pd.DataFrame(rs.fetchall())\n",
    "df.columns = rs.keys()\n",
    "con.close"
   ]
  },
  {
   "cell_type": "code",
   "execution_count": null,
   "id": "77245dc4",
   "metadata": {},
   "outputs": [],
   "source": [
    "engine = create_engine('sqlite:///Northwind.sqlite')\n",
    "\n",
    "with engine.connect() as con:\n",
    "    rs = con.execute(\"SELECT OrderID, OrderDate, ShipName FROM Orders\")\n",
    "    df = pd.DataFrame(rs.fetchmany(size=5))\n",
    "    df.columns = rs.keys()"
   ]
  }
 ],
 "metadata": {
  "kernelspec": {
   "display_name": "Python 3 (ipykernel)",
   "language": "python",
   "name": "python3"
  },
  "language_info": {
   "codemirror_mode": {
    "name": "ipython",
    "version": 3
   },
   "file_extension": ".py",
   "mimetype": "text/x-python",
   "name": "python",
   "nbconvert_exporter": "python",
   "pygments_lexer": "ipython3",
   "version": "3.9.7"
  }
 },
 "nbformat": 4,
 "nbformat_minor": 5
}
